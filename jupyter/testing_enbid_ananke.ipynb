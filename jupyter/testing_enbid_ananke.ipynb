{
 "cells": [
  {
   "cell_type": "markdown",
   "id": "2f00fe78",
   "metadata": {},
   "source": [
    "# Testing Notebook"
   ]
  },
  {
   "cell_type": "code",
   "execution_count": 1,
   "id": "f130bf6c",
   "metadata": {},
   "outputs": [
    {
     "data": {
      "text/plain": [
       "'0.2.1+1.g3c390a1'"
      ]
     },
     "execution_count": 1,
     "metadata": {},
     "output_type": "execute_result"
    }
   ],
   "source": [
    "import numpy as np\n",
    "import enbid_ananke\n",
    "enbid_ananke.__version__"
   ]
  },
  {
   "cell_type": "markdown",
   "id": "a8026efc",
   "metadata": {},
   "source": [
    "Creating mock coordinates"
   ]
  },
  {
   "cell_type": "code",
   "execution_count": 2,
   "id": "3a74890b",
   "metadata": {},
   "outputs": [],
   "source": [
    "np.random.seed(0)\n",
    "points = np.random.randn(100000, 3)"
   ]
  },
  {
   "cell_type": "markdown",
   "id": "d0809afe",
   "metadata": {},
   "source": [
    "Test enbid"
   ]
  },
  {
   "cell_type": "code",
   "execution_count": 3,
   "id": "fa0e3b78",
   "metadata": {},
   "outputs": [
    {
     "name": "stdout",
     "output_type": "stream",
     "text": [
      "Dimensions = 3\n",
      "Normalization constant of Kernel type 3: 0.596831\n",
      "Reading ASCII format file: to_enbid \n",
      "Read 300000 records\n",
      "Allocated 3.8147 MByte for particle storage.\n",
      "Type = 1 Particles = 100000\n",
      "Total particles = 100000\n",
      "Allocated 22.1252 MByte for Binary-Tree and Entropy bins.\n",
      "\n",
      "Scaling Co-ordinates as x[i]=x[i]/h[i] with h[i]->\n",
      "1 1 1 \n",
      "\n",
      "Starting to Build Tree .......\n",
      "Particle Type = 1 First node number = 1\n",
      "                  Last node number  = 199999\n",
      "Total number of nodes = 199999\n",
      "Treebuild time = 0.165512 s \n",
      "\n",
      "Density Calculation. Smoothing .....\n",
      "Evaluated =   1 % Time Left = 1.140270 s of 1.151800 s Par no = 15331 Density = 2.822111e+03 \n",
      "Evaluated =   2 % Time Left = 1.173832 s of 1.197800 s Par no = 77799 Density = 1.442662e+03 \n",
      "Evaluated =   3 % Time Left = 1.142551 s of 1.177900 s Par no = 20716 Density = 1.347107e+03 \n",
      "Evaluated =   4 % Time Left = 1.163556 s of 1.212050 s Par no = 36598 Density = 1.518448e+03 \n",
      "Evaluated =   5 % Time Left = 1.171585 s of 1.233260 s Par no = 54783 Density = 1.418503e+03 \n",
      "Evaluated =   6 % Time Left = 1.193114 s of 1.269283 s Par no = 18231 Density = 5.910374e+03 \n",
      "Evaluated =   7 % Time Left = 1.176490 s of 1.265057 s Par no = 77863 Density = 3.802778e+03 \n",
      "Evaluated =   8 % Time Left = 1.163672 s of 1.264875 s Par no = 29694 Density = 3.112394e+03 \n",
      "Evaluated =   9 % Time Left = 1.151532 s of 1.265433 s Par no = 49839 Density = 6.421483e+02 \n",
      "Evaluated =  10 % Time Left = 1.141106 s of 1.267910 s Par no = 63429 Density = 4.052199e+03 \n",
      "Evaluated =  11 % Time Left = 1.127197 s of 1.266527 s Par no = 34096 Density = 2.971922e+03 \n",
      "Evaluated =  12 % Time Left = 1.111933 s of 1.263575 s Par no = 73880 Density = 1.911730e+03 \n",
      "Evaluated =  13 % Time Left = 1.093303 s of 1.256685 s Par no = 59488 Density = 3.942927e+03 \n",
      "Evaluated =  14 % Time Left = 1.117692 s of 1.299657 s Par no = 17747 Density = 4.903259e+03 \n",
      "Evaluated =  15 % Time Left = 1.114303 s of 1.310960 s Par no = 50409 Density = 7.975875e+02 \n",
      "Evaluated =  16 % Time Left = 1.099578 s of 1.309037 s Par no = 66709 Density = 3.939722e+03 \n",
      "Evaluated =  17 % Time Left = 1.088737 s of 1.311747 s Par no = 58854 Density = 7.299768e+02 \n",
      "Evaluated =  18 % Time Left = 1.078146 s of 1.314828 s Par no = 6149 Density = 3.353193e+03 \n",
      "Evaluated =  19 % Time Left = 1.074119 s of 1.326089 s Par no = 13280 Density = 3.527213e+03 \n",
      "Evaluated =  20 % Time Left = 1.060867 s of 1.326100 s Par no = 77854 Density = 7.278303e+03 \n",
      "Evaluated =  21 % Time Left = 1.044491 s of 1.322157 s Par no = 84128 Density = 4.000489e+03 \n",
      "Evaluated =  22 % Time Left = 1.030275 s of 1.320882 s Par no = 12510 Density = 2.366131e+03 \n",
      "Evaluated =  23 % Time Left = 1.014522 s of 1.317578 s Par no = 38046 Density = 2.401039e+03 \n",
      "Evaluated =  24 % Time Left = 1.004685 s of 1.321971 s Par no = 76317 Density = 2.604788e+03 \n",
      "Evaluated =  25 % Time Left = 0.988853 s of 1.318488 s Par no = 55671 Density = 2.979146e+03 \n",
      "Evaluated =  26 % Time Left = 0.980424 s of 1.324915 s Par no = 24840 Density = 3.602203e+03 \n",
      "Evaluated =  27 % Time Left = 0.967688 s of 1.325619 s Par no = 34979 Density = 1.324684e+03 \n",
      "Evaluated =  28 % Time Left = 0.950294 s of 1.319871 s Par no = 17339 Density = 1.698872e+03 \n",
      "Evaluated =  29 % Time Left = 0.937441 s of 1.320359 s Par no = 59059 Density = 3.364317e+03 \n",
      "Evaluated =  30 % Time Left = 0.925781 s of 1.322563 s Par no = 48861 Density = 4.071747e+02 \n",
      "Evaluated =  31 % Time Left = 0.911455 s of 1.320968 s Par no = 34025 Density = 2.219551e+03 \n",
      "Evaluated =  32 % Time Left = 0.899657 s of 1.323044 s Par no = 92378 Density = 2.220241e+03 \n",
      "Evaluated =  33 % Time Left = 0.886675 s of 1.323415 s Par no = 14610 Density = 2.642163e+03 \n",
      "Evaluated =  34 % Time Left = 0.874850 s of 1.325550 s Par no = 79246 Density = 2.082532e+03 \n",
      "Evaluated =  35 % Time Left = 0.862288 s of 1.326617 s Par no = 2398 Density = 3.694222e+03 \n",
      "Evaluated =  36 % Time Left = 0.853240 s of 1.333208 s Par no = 24906 Density = 3.338249e+03 \n",
      "Evaluated =  37 % Time Left = 0.838413 s of 1.330835 s Par no = 64780 Density = 2.756157e+02 \n",
      "Evaluated =  38 % Time Left = 0.823259 s of 1.327858 s Par no = 56355 Density = 5.440238e+03 \n",
      "Evaluated =  39 % Time Left = 0.809217 s of 1.326608 s Par no = 75129 Density = 1.397896e+03 \n",
      "Evaluated =  40 % Time Left = 0.793662 s of 1.322793 s Par no = 37669 Density = 2.296944e+02 \n",
      "Evaluated =  41 % Time Left = 0.779973 s of 1.322010 s Par no = 44245 Density = 1.726854e+02 \n",
      "Evaluated =  42 % Time Left = 0.767614 s of 1.323495 s Par no = 51931 Density = 4.815193e+03 \n",
      "Evaluated =  43 % Time Left = 0.755002 s of 1.324588 s Par no = 43963 Density = 3.715361e+03 \n",
      "Evaluated =  44 % Time Left = 0.741866 s of 1.324784 s Par no = 56586 Density = 4.460856e+03 \n",
      "Evaluated =  45 % Time Left = 0.732323 s of 1.331520 s Par no = 3177 Density = 4.708334e+02 \n",
      "Evaluated =  46 % Time Left = 0.718014 s of 1.329680 s Par no = 16436 Density = 3.666953e+03 \n",
      "Evaluated =  47 % Time Left = 0.705797 s of 1.331717 s Par no = 27577 Density = 1.474241e+03 \n",
      "Evaluated =  48 % Time Left = 0.690508 s of 1.327925 s Par no = 76070 Density = 1.748841e+03 \n",
      "Evaluated =  49 % Time Left = 0.677878 s of 1.329198 s Par no = 5116 Density = 3.177198e+03 \n",
      "Evaluated =  50 % Time Left = 0.665520 s of 1.331066 s Par no = 36593 Density = 3.739479e+03 \n",
      "Evaluated =  51 % Time Left = 0.650963 s of 1.328524 s Par no = 10533 Density = 4.443296e+03 \n",
      "Evaluated =  52 % Time Left = 0.637591 s of 1.328342 s Par no = 64236 Density = 1.314060e+03 \n",
      "Evaluated =  53 % Time Left = 0.624132 s of 1.327968 s Par no = 31107 Density = 4.358351e+03 \n",
      "Evaluated =  54 % Time Left = 0.611110 s of 1.328530 s Par no = 37390 Density = 8.293836e+02 \n",
      "Evaluated =  55 % Time Left = 0.596259 s of 1.325049 s Par no = 44193 Density = 6.911039e+02 \n",
      "Evaluated =  56 % Time Left = 0.583721 s of 1.326668 s Par no = 73564 Density = 1.592207e+03 \n",
      "Evaluated =  57 % Time Left = 0.570028 s of 1.325677 s Par no = 84805 Density = 3.435408e+03 \n",
      "Evaluated =  58 % Time Left = 0.557835 s of 1.328210 s Par no = 70836 Density = 1.086561e+03 \n",
      "Evaluated =  59 % Time Left = 0.543689 s of 1.326103 s Par no = 21538 Density = 9.843017e+02 \n",
      "Evaluated =  60 % Time Left = 0.530495 s of 1.326272 s Par no = 26397 Density = 2.703689e+03 \n",
      "Evaluated =  61 % Time Left = 0.518663 s of 1.329939 s Par no = 59479 Density = 4.639280e+03 \n",
      "Evaluated =  62 % Time Left = 0.505690 s of 1.330798 s Par no = 73940 Density = 6.484902e+03 \n",
      "Evaluated =  63 % Time Left = 0.491910 s of 1.329522 s Par no = 81529 Density = 5.558739e+02 \n",
      "Evaluated =  64 % Time Left = 0.478217 s of 1.328419 s Par no = 83734 Density = 3.109286e+03 \n",
      "Evaluated =  65 % Time Left = 0.465145 s of 1.329025 s Par no = 36656 Density = 1.391414e+03 \n",
      "Evaluated =  66 % Time Left = 0.451351 s of 1.327542 s Par no = 57321 Density = 3.723538e+02 \n",
      "Evaluated =  67 % Time Left = 0.437206 s of 1.324906 s Par no = 35213 Density = 3.780156e+03 \n",
      "Evaluated =  68 % Time Left = 0.424835 s of 1.327651 s Par no = 65080 Density = 1.219758e+03 \n",
      "Evaluated =  69 % Time Left = 0.410868 s of 1.325425 s Par no = 16606 Density = 2.603137e+02 \n",
      "Evaluated =  70 % Time Left = 0.397693 s of 1.325687 s Par no = 87732 Density = 1.023583e+03 \n",
      "Evaluated =  71 % Time Left = 0.386118 s of 1.331487 s Par no = 5640 Density = 5.597383e+02 \n",
      "Evaluated =  72 % Time Left = 0.373464 s of 1.333847 s Par no = 51991 Density = 2.662520e+03 \n",
      "Evaluated =  73 % Time Left = 0.359723 s of 1.332358 s Par no = 26385 Density = 4.305937e+01 \n",
      "Evaluated =  74 % Time Left = 0.346380 s of 1.332284 s Par no = 37310 Density = 3.993851e+03 \n",
      "Evaluated =  75 % Time Left = 0.332634 s of 1.330588 s Par no = 97131 Density = 1.369731e+03 \n",
      "Evaluated =  76 % Time Left = 0.319341 s of 1.330642 s Par no = 3103 Density = 2.436843e+03 \n",
      "Evaluated =  77 % Time Left = 0.305600 s of 1.328752 s Par no = 25522 Density = 1.605624e+03 \n",
      "Evaluated =  78 % Time Left = 0.291859 s of 1.326691 s Par no = 910 Density = 5.151483e+01 \n",
      "Evaluated =  79 % Time Left = 0.278105 s of 1.324373 s Par no = 35125 Density = 2.473162e+01 \n",
      "Evaluated =  80 % Time Left = 0.264674 s of 1.323435 s Par no = 37920 Density = 9.703310e+02 \n",
      "Evaluated =  81 % Time Left = 0.251287 s of 1.322631 s Par no = 24227 Density = 3.733124e+02 \n",
      "Evaluated =  82 % Time Left = 0.237753 s of 1.320923 s Par no = 45909 Density = 2.877809e+03 \n",
      "Evaluated =  83 % Time Left = 0.224453 s of 1.320392 s Par no = 51688 Density = 4.196748e+03 \n",
      "Evaluated =  84 % Time Left = 0.211428 s of 1.321506 s Par no = 95852 Density = 5.509703e+02 \n",
      "Evaluated =  85 % Time Left = 0.198180 s of 1.321288 s Par no = 39450 Density = 1.983139e+02 \n",
      "Evaluated =  86 % Time Left = 0.185087 s of 1.322148 s Par no = 8808 Density = 1.392768e+02 \n",
      "Evaluated =  87 % Time Left = 0.171813 s of 1.321738 s Par no = 57392 Density = 3.091543e+03 \n",
      "Evaluated =  88 % Time Left = 0.158731 s of 1.322873 s Par no = 83393 Density = 3.849348e+03 \n",
      "Evaluated =  89 % Time Left = 0.146003 s of 1.327419 s Par no = 68997 Density = 4.455536e+03 \n",
      "Evaluated =  90 % Time Left = 0.132828 s of 1.328418 s Par no = 79817 Density = 4.377665e+01 \n",
      "Evaluated =  91 % Time Left = 0.119450 s of 1.327375 s Par no = 83472 Density = 2.215261e+03 \n",
      "Evaluated =  92 % Time Left = 0.106352 s of 1.329568 s Par no = 24893 Density = 4.393429e+03 \n",
      "Evaluated =  93 % Time Left = 0.093183 s of 1.331380 s Par no = 64593 Density = 1.252936e+03 \n",
      "Evaluated =  94 % Time Left = 0.079957 s of 1.332838 s Par no = 11536 Density = 2.153480e+03 \n",
      "Evaluated =  95 % Time Left = 0.066746 s of 1.335184 s Par no = 37158 Density = 3.735359e+01 \n",
      "Evaluated =  96 % Time Left = 0.053345 s of 1.333960 s Par no = 43390 Density = 3.406644e+01 \n",
      "Evaluated =  97 % Time Left = 0.039982 s of 1.333177 s Par no = 10529 Density = 3.171351e+03 \n",
      "Evaluated =  98 % Time Left = 0.026689 s of 1.335096 s Par no = 7315 Density = 1.658222e+03 \n",
      "Evaluated =  99 % Time Left = 0.013355 s of 1.336821 s Par no = 32071 Density = 5.807275e+02 \n",
      "Evaluated = 100 % Time Left = -0.000013 s of 1.339303 s Par no = 35331 Density = 1.974778e+01 \n",
      "\n",
      "Total Smoothing Time = 1.33937 s\n",
      "1 3\n",
      "\n",
      "writing snapshot file ....\n",
      "to_enbid_d3n64.est\n",
      "done with snapshot.\n",
      "\n",
      "Total Time = 1.92701 s \n",
      "\n"
     ]
    },
    {
     "name": "stderr",
     "output_type": "stream",
     "text": [
      "/home/athob/miniconda3/envs/void/lib/python3.10/site-packages/enbid_ananke/__init__.py:271: FutureWarning: The 'delim_whitespace' keyword in pd.read_table is deprecated and will be removed in a future version. Use ``sep='\\s+'`` instead\n",
      "  usedvals = pd.read_table(path / CONSTANTS.usedvalues, header=None, delim_whitespace=True,\n"
     ]
    }
   ],
   "source": [
    "name='demo'\n",
    "rho = enbid_ananke.enbid(points, name=name, caching=False, verbose=True)"
   ]
  },
  {
   "cell_type": "markdown",
   "id": "5b85b27e",
   "metadata": {},
   "source": [
    "Show result"
   ]
  },
  {
   "cell_type": "code",
   "execution_count": 4,
   "id": "cf4db07a",
   "metadata": {},
   "outputs": [
    {
     "name": "stdout",
     "output_type": "stream",
     "text": [
      "[ 654.357    71.6832 4765.37   ... 3993.97   4092.39    415.127 ]\n"
     ]
    }
   ],
   "source": [
    "print(rho)"
   ]
  }
 ],
 "metadata": {
  "kernelspec": {
   "display_name": "void",
   "language": "python",
   "name": "python3"
  },
  "language_info": {
   "codemirror_mode": {
    "name": "ipython",
    "version": 3
   },
   "file_extension": ".py",
   "mimetype": "text/x-python",
   "name": "python",
   "nbconvert_exporter": "python",
   "pygments_lexer": "ipython3",
   "version": "3.10.17"
  }
 },
 "nbformat": 4,
 "nbformat_minor": 5
}
