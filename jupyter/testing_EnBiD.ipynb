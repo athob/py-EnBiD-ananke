{
 "cells": [
  {
   "cell_type": "markdown",
   "id": "2f00fe78",
   "metadata": {},
   "source": [
    "# Testing Notebook"
   ]
  },
  {
   "cell_type": "code",
   "execution_count": null,
   "id": "f130bf6c",
   "metadata": {},
   "outputs": [
    {
     "data": {
      "text/plain": [
       "'0.2.0+3.g334565b'"
      ]
     },
     "execution_count": 1,
     "metadata": {},
     "output_type": "execute_result"
    }
   ],
   "source": [
    "import numpy as np\n",
    "import enbid_ananke\n",
    "enbid_ananke.__version__"
   ]
  },
  {
   "cell_type": "markdown",
   "id": "a8026efc",
   "metadata": {},
   "source": [
    "Creating mock coordinates"
   ]
  },
  {
   "cell_type": "code",
   "execution_count": 2,
   "id": "3a74890b",
   "metadata": {},
   "outputs": [],
   "source": [
    "np.random.seed(0)\n",
    "points = np.random.randn(100000, 3)"
   ]
  },
  {
   "cell_type": "markdown",
   "id": "d0809afe",
   "metadata": {},
   "source": [
    "Test enbid"
   ]
  },
  {
   "cell_type": "code",
   "execution_count": null,
   "id": "fa0e3b78",
   "metadata": {},
   "outputs": [
    {
     "name": "stdout",
     "output_type": "stream",
     "text": [
      "Dimensions = 3\n",
      "Normalization constant of Kernel type 3: 0.596831\n",
      "Reading ASCII format file: to_enbid \n",
      "Read 300000 records\n",
      "Allocated 3.8147 MByte for particle storage.\n",
      "Type = 1 Particles = 100000\n",
      "Total particles = 100000\n",
      "Allocated 22.1252 MByte for Binary-Tree and Entropy bins.\n",
      "\n",
      "Scaling Co-ordinates as x[i]=x[i]/h[i] with h[i]->\n",
      "1 1 1 \n",
      "\n",
      "Starting to Build Tree .......\n",
      "Particle Type = 1 First node number = 1\n",
      "                  Last node number  = 199999\n",
      "Total number of nodes = 199999\n",
      "Treebuild time = 0.07746 s \n",
      "\n",
      "Density Calculation. Smoothing .....\n",
      "Evaluated =   1 % Time Left = 0.575778 s of 0.581600 s Par no = 15331 Density = 2.822111e+03 \n",
      "Evaluated =   2 % Time Left = 0.574764 s of 0.586500 s Par no = 77799 Density = 1.442662e+03 \n",
      "Evaluated =   3 % Time Left = 0.560234 s of 0.577567 s Par no = 20716 Density = 1.347107e+03 \n",
      "Evaluated =   4 % Time Left = 0.558930 s of 0.582225 s Par no = 36598 Density = 1.518448e+03 \n",
      "Evaluated =   5 % Time Left = 0.555326 s of 0.584560 s Par no = 54783 Density = 1.418503e+03 \n",
      "Evaluated =   6 % Time Left = 0.567817 s of 0.604067 s Par no = 18231 Density = 5.910374e+03 \n",
      "Evaluated =   7 % Time Left = 0.559137 s of 0.601229 s Par no = 77863 Density = 3.802778e+03 \n",
      "Evaluated =   8 % Time Left = 0.560400 s of 0.609137 s Par no = 29694 Density = 3.112394e+03 \n",
      "Evaluated =   9 % Time Left = 0.562040 s of 0.617633 s Par no = 49839 Density = 6.421483e+02 \n",
      "Evaluated =  10 % Time Left = 0.560865 s of 0.623190 s Par no = 63429 Density = 4.052199e+03 \n",
      "Evaluated =  11 % Time Left = 0.558444 s of 0.627473 s Par no = 34096 Density = 2.971922e+03 \n",
      "Evaluated =  12 % Time Left = 0.551431 s of 0.626633 s Par no = 73880 Density = 1.911730e+03 \n",
      "Evaluated =  13 % Time Left = 0.543958 s of 0.625246 s Par no = 59488 Density = 3.942927e+03 \n",
      "Evaluated =  14 % Time Left = 0.543600 s of 0.632100 s Par no = 17747 Density = 4.903259e+03 \n",
      "Evaluated =  15 % Time Left = 0.537777 s of 0.632687 s Par no = 50409 Density = 7.975875e+02 \n",
      "Evaluated =  16 % Time Left = 0.529734 s of 0.630644 s Par no = 66709 Density = 3.939722e+03 \n",
      "Evaluated =  17 % Time Left = 0.524651 s of 0.632118 s Par no = 58854 Density = 7.299768e+02 \n",
      "Evaluated =  18 % Time Left = 0.521532 s of 0.636022 s Par no = 6149 Density = 3.353193e+03 \n",
      "Evaluated =  19 % Time Left = 0.517856 s of 0.639337 s Par no = 13280 Density = 3.527213e+03 \n",
      "Evaluated =  20 % Time Left = 0.511990 s of 0.639995 s Par no = 77854 Density = 7.278303e+03 \n",
      "Evaluated =  21 % Time Left = 0.504126 s of 0.638143 s Par no = 84128 Density = 4.000489e+03 \n",
      "Evaluated =  22 % Time Left = 0.499541 s of 0.640445 s Par no = 12510 Density = 2.366131e+03 \n",
      "Evaluated =  23 % Time Left = 0.492663 s of 0.639830 s Par no = 38046 Density = 2.401039e+03 \n",
      "Evaluated =  24 % Time Left = 0.488281 s of 0.642483 s Par no = 76317 Density = 2.604788e+03 \n",
      "Evaluated =  25 % Time Left = 0.480372 s of 0.640504 s Par no = 55671 Density = 2.979146e+03 \n",
      "Evaluated =  26 % Time Left = 0.474780 s of 0.641604 s Par no = 24840 Density = 3.602203e+03 \n",
      "Evaluated =  27 % Time Left = 0.469859 s of 0.643652 s Par no = 34979 Density = 1.324684e+03 \n",
      "Evaluated =  28 % Time Left = 0.460873 s of 0.640111 s Par no = 17339 Density = 1.698872e+03 \n",
      "Evaluated =  29 % Time Left = 0.455843 s of 0.642041 s Par no = 59059 Density = 3.364317e+03 \n",
      "Evaluated =  30 % Time Left = 0.449459 s of 0.642093 s Par no = 48861 Density = 4.071747e+02 \n",
      "Evaluated =  31 % Time Left = 0.442150 s of 0.640806 s Par no = 34025 Density = 2.219551e+03 \n",
      "Evaluated =  32 % Time Left = 0.437525 s of 0.643428 s Par no = 92378 Density = 2.220241e+03 \n",
      "Evaluated =  33 % Time Left = 0.431157 s of 0.643527 s Par no = 14610 Density = 2.642163e+03 \n",
      "Evaluated =  34 % Time Left = 0.425622 s of 0.644891 s Par no = 79246 Density = 2.082532e+03 \n",
      "Evaluated =  35 % Time Left = 0.419388 s of 0.645223 s Par no = 2398 Density = 3.694222e+03 \n",
      "Evaluated =  36 % Time Left = 0.416081 s of 0.650136 s Par no = 24906 Density = 3.338249e+03 \n",
      "Evaluated =  37 % Time Left = 0.408739 s of 0.648803 s Par no = 64780 Density = 2.756157e+02 \n",
      "Evaluated =  38 % Time Left = 0.401678 s of 0.647879 s Par no = 56355 Density = 5.440238e+03 \n",
      "Evaluated =  39 % Time Left = 0.395259 s of 0.647977 s Par no = 75129 Density = 1.397896e+03 \n",
      "Evaluated =  40 % Time Left = 0.387919 s of 0.646543 s Par no = 37669 Density = 2.296944e+02 \n",
      "Evaluated =  41 % Time Left = 0.382339 s of 0.648044 s Par no = 44245 Density = 1.726854e+02 \n",
      "Evaluated =  42 % Time Left = 0.376817 s of 0.649695 s Par no = 51931 Density = 4.815193e+03 \n",
      "Evaluated =  43 % Time Left = 0.371171 s of 0.651188 s Par no = 43963 Density = 3.715361e+03 \n",
      "Evaluated =  44 % Time Left = 0.364681 s of 0.651227 s Par no = 56586 Density = 4.460856e+03 \n",
      "Evaluated =  45 % Time Left = 0.359537 s of 0.653716 s Par no = 3177 Density = 4.708334e+02 \n",
      "Evaluated =  46 % Time Left = 0.352274 s of 0.652372 s Par no = 16436 Density = 3.666953e+03 \n",
      "Evaluated =  47 % Time Left = 0.346371 s of 0.653543 s Par no = 27577 Density = 1.474241e+03 \n",
      "Evaluated =  48 % Time Left = 0.338794 s of 0.651540 s Par no = 76070 Density = 1.748841e+03 \n",
      "Evaluated =  49 % Time Left = 0.331859 s of 0.650716 s Par no = 5116 Density = 3.177198e+03 \n",
      "Evaluated =  50 % Time Left = 0.326661 s of 0.653336 s Par no = 36593 Density = 3.739479e+03 \n",
      "Evaluated =  51 % Time Left = 0.319459 s of 0.651971 s Par no = 10533 Density = 4.443296e+03 \n",
      "Evaluated =  52 % Time Left = 0.312784 s of 0.651646 s Par no = 64236 Density = 1.314060e+03 \n",
      "Evaluated =  53 % Time Left = 0.305989 s of 0.651055 s Par no = 31107 Density = 4.358351e+03 \n",
      "Evaluated =  54 % Time Left = 0.299141 s of 0.650320 s Par no = 37390 Density = 8.293836e+02 \n",
      "Evaluated =  55 % Time Left = 0.292541 s of 0.650105 s Par no = 44193 Density = 6.911039e+02 \n",
      "Evaluated =  56 % Time Left = 0.287782 s of 0.654064 s Par no = 73564 Density = 1.592207e+03 \n",
      "Evaluated =  57 % Time Left = 0.283183 s of 0.658581 s Par no = 84805 Density = 3.435408e+03 \n",
      "Evaluated =  58 % Time Left = 0.277136 s of 0.659864 s Par no = 70836 Density = 1.086561e+03 \n",
      "Evaluated =  59 % Time Left = 0.271734 s of 0.662783 s Par no = 21538 Density = 9.843017e+02 \n",
      "Evaluated =  60 % Time Left = 0.264990 s of 0.662492 s Par no = 26397 Density = 2.703689e+03 \n",
      "Evaluated =  61 % Time Left = 0.258990 s of 0.664095 s Par no = 59479 Density = 4.639280e+03 \n",
      "Evaluated =  62 % Time Left = 0.252378 s of 0.664171 s Par no = 73940 Density = 6.484902e+03 \n",
      "Evaluated =  63 % Time Left = 0.245624 s of 0.663867 s Par no = 81529 Density = 5.558739e+02 \n",
      "Evaluated =  64 % Time Left = 0.238554 s of 0.662667 s Par no = 83734 Density = 3.109286e+03 \n",
      "Evaluated =  65 % Time Left = 0.231444 s of 0.661286 s Par no = 36656 Density = 1.391414e+03 \n",
      "Evaluated =  66 % Time Left = 0.224402 s of 0.660024 s Par no = 57321 Density = 3.723538e+02 \n",
      "Evaluated =  67 % Time Left = 0.217281 s of 0.658446 s Par no = 35213 Density = 3.780156e+03 \n",
      "Evaluated =  68 % Time Left = 0.211254 s of 0.660190 s Par no = 65080 Density = 1.219758e+03 \n",
      "Evaluated =  69 % Time Left = 0.204309 s of 0.659081 s Par no = 16606 Density = 2.603137e+02 \n",
      "Evaluated =  70 % Time Left = 0.197535 s of 0.658473 s Par no = 87732 Density = 1.023583e+03 \n",
      "Evaluated =  71 % Time Left = 0.191591 s of 0.660680 s Par no = 5640 Density = 5.597383e+02 \n",
      "Evaluated =  72 % Time Left = 0.185151 s of 0.661276 s Par no = 51991 Density = 2.662520e+03 \n",
      "Evaluated =  73 % Time Left = 0.178426 s of 0.660862 s Par no = 26385 Density = 4.305937e+01 \n",
      "Evaluated =  74 % Time Left = 0.171734 s of 0.660541 s Par no = 37310 Density = 3.993851e+03 \n",
      "Evaluated =  75 % Time Left = 0.164999 s of 0.660024 s Par no = 97131 Density = 1.369731e+03 \n",
      "Evaluated =  76 % Time Left = 0.158370 s of 0.659903 s Par no = 3103 Density = 2.436843e+03 \n",
      "Evaluated =  77 % Time Left = 0.151534 s of 0.658870 s Par no = 25522 Density = 1.605624e+03 \n",
      "Evaluated =  78 % Time Left = 0.144834 s of 0.658368 s Par no = 910 Density = 5.151483e+01 \n",
      "Evaluated =  79 % Time Left = 0.138011 s of 0.657228 s Par no = 35125 Density = 2.473162e+01 \n",
      "Evaluated =  80 % Time Left = 0.131341 s of 0.656739 s Par no = 37920 Density = 9.703310e+02 \n",
      "Evaluated =  81 % Time Left = 0.124648 s of 0.656079 s Par no = 24227 Density = 3.733124e+02 \n",
      "Evaluated =  82 % Time Left = 0.117889 s of 0.654977 s Par no = 45909 Density = 2.877809e+03 \n",
      "Evaluated =  83 % Time Left = 0.111311 s of 0.654807 s Par no = 51688 Density = 4.196748e+03 \n",
      "Evaluated =  84 % Time Left = 0.104857 s of 0.655399 s Par no = 95852 Density = 5.509703e+02 \n",
      "Evaluated =  85 % Time Left = 0.098360 s of 0.655780 s Par no = 39450 Density = 1.983139e+02 \n",
      "Evaluated =  86 % Time Left = 0.091972 s of 0.656987 s Par no = 8808 Density = 1.392768e+02 \n",
      "Evaluated =  87 % Time Left = 0.085423 s of 0.657147 s Par no = 57392 Density = 3.091543e+03 \n",
      "Evaluated =  88 % Time Left = 0.079042 s of 0.658740 s Par no = 83393 Density = 3.849348e+03 \n",
      "Evaluated =  89 % Time Left = 0.072637 s of 0.660399 s Par no = 68997 Density = 4.455536e+03 \n",
      "Evaluated =  90 % Time Left = 0.066191 s of 0.661974 s Par no = 79817 Density = 4.377665e+01 \n",
      "Evaluated =  91 % Time Left = 0.059547 s of 0.661704 s Par no = 83472 Density = 2.215261e+03 \n",
      "Evaluated =  92 % Time Left = 0.053076 s of 0.663529 s Par no = 24893 Density = 4.393429e+03 \n",
      "Evaluated =  93 % Time Left = 0.046497 s of 0.664341 s Par no = 64593 Density = 1.252936e+03 \n",
      "Evaluated =  94 % Time Left = 0.039917 s of 0.665399 s Par no = 11536 Density = 2.153480e+03 \n",
      "Evaluated =  95 % Time Left = 0.033331 s of 0.666761 s Par no = 37158 Density = 3.735359e+01 \n",
      "Evaluated =  96 % Time Left = 0.026678 s of 0.667114 s Par no = 43390 Density = 3.406644e+01 \n",
      "Evaluated =  97 % Time Left = 0.019996 s of 0.666746 s Par no = 10529 Density = 3.171351e+03 \n",
      "Evaluated =  98 % Time Left = 0.013364 s of 0.668528 s Par no = 7315 Density = 1.658222e+03 \n",
      "Evaluated =  99 % Time Left = 0.006688 s of 0.669467 s Par no = 32071 Density = 5.807275e+02 \n",
      "Evaluated = 100 % Time Left = -0.000007 s of 0.671357 s Par no = 35331 Density = 1.974778e+01 \n",
      "\n",
      "Total Smoothing Time = 0.671392 s\n",
      "1 3\n",
      "\n",
      "writing snapshot file ....\n",
      "to_enbid_d3n64.est\n",
      "done with snapshot.\n",
      "\n",
      "Total Time = 0.943618 s \n",
      "\n"
     ]
    }
   ],
   "source": [
    "name='demo'\n",
    "rho = enbid_ananke.enbid(points, name=name, caching=False, verbose=True)"
   ]
  },
  {
   "cell_type": "markdown",
   "id": "5b85b27e",
   "metadata": {},
   "source": [
    "Show result"
   ]
  },
  {
   "cell_type": "code",
   "execution_count": 4,
   "id": "cf4db07a",
   "metadata": {},
   "outputs": [
    {
     "name": "stdout",
     "output_type": "stream",
     "text": [
      "[ 654.357    71.6832 4765.37   ... 3993.97   4092.39    415.127 ]\n"
     ]
    }
   ],
   "source": [
    "print(rho)"
   ]
  }
 ],
 "metadata": {
  "kernelspec": {
   "display_name": "main",
   "language": "python",
   "name": "python3"
  },
  "language_info": {
   "codemirror_mode": {
    "name": "ipython",
    "version": 3
   },
   "file_extension": ".py",
   "mimetype": "text/x-python",
   "name": "python",
   "nbconvert_exporter": "python",
   "pygments_lexer": "ipython3",
   "version": "3.10.13"
  }
 },
 "nbformat": 4,
 "nbformat_minor": 5
}
